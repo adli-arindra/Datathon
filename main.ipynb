{
 "cells": [
  {
   "cell_type": "markdown",
   "metadata": {},
   "source": [
    "Pendahuluan"
   ]
  },
  {
   "cell_type": "markdown",
   "metadata": {},
   "source": [
    "Preprocessing"
   ]
  },
  {
   "cell_type": "code",
   "execution_count": 1,
   "metadata": {},
   "outputs": [
    {
     "name": "stdout",
     "output_type": "stream",
     "text": [
      "c:\\Users\\Adli\\Desktop\\ilegil\\bintangkecilmama\\DATATHON\n"
     ]
    }
   ],
   "source": [
    "import numpy as np\n",
    "import pandas as pd\n",
    "import matplotlib.pyplot as plt\n",
    "import seaborn as sns\n",
    "import gc\n",
    "from sklearn.model_selection import train_test_split\n",
    "from sklearn.preprocessing import OneHotEncoder, StandardScaler\n",
    "from sklearn.compose import ColumnTransformer\n",
    "from sklearn.pipeline import Pipeline\n",
    "from sklearn.svm import SVC\n",
    "from sklearn.linear_model import RidgeClassifier\n",
    "from sklearn.metrics import precision_score\n",
    "from sklearn.tree import DecisionTreeClassifier\n",
    "from sklearn.metrics import precision_score\n",
    "from sklearn.metrics import roc_auc_score\n",
    "from datetime import datetime \n",
    "from sklearn.model_selection import KFold\n",
    "from sklearn.ensemble import RandomForestClassifier\n",
    "from sklearn.ensemble import AdaBoostClassifier\n",
    "from sklearn import svm\n",
    "from sklearn.ensemble import GradientBoostingClassifier\n",
    "\n",
    "%cd ..\n",
    "\n",
    "userData = pd.read_csv('train.csv')\n",
    "test = pd.read_csv('test.csv')\n",
    "submission = pd.read_csv('sample_submission.csv')\n",
    "nonBorrower = pd.read_csv('non_borrower_user.csv')\n",
    "loan = pd.read_csv('loan_activities.csv')"
   ]
  },
  {
   "cell_type": "code",
   "execution_count": 2,
   "metadata": {},
   "outputs": [],
   "source": [
    "trainLoan = userData.set_index('user_id').join(loan.set_index('user_id')).reset_index() #nyatuin data train dan loan\n",
    "trainLoan = trainLoan.drop('pc8', axis=1) #drop kolom yang sama menurut heatmap\n",
    "trainLoan = trainLoan.drop('pc9', axis=1) #drop kolom yang sama menurut heatmap\n",
    "\n",
    "\n",
    "nonLoan = nonBorrower.set_index('user_id').join(loan.set_index('user_id')).reset_index() #nyatuin data non borrower dan loan\n",
    "\n",
    "# memisahkan data fraud dan non fraud\n",
    "loanFraud = trainLoan.loc[trainLoan[\"label\"]==1]\n",
    "loanFraud = loanFraud[[\"user_id\", \"reference_contact\", \"loan_type\", \"ts\"]]\n",
    "loanNonFraud = trainLoan.loc[trainLoan[\"label\"]==0]\n",
    "loanNonFraud = loanNonFraud[[\"user_id\", \"reference_contact\", \"loan_type\", \"ts\"]]"
   ]
  },
  {
   "cell_type": "markdown",
   "metadata": {},
   "source": [
    "FeatureEngineering"
   ]
  },
  {
   "cell_type": "code",
   "execution_count": 3,
   "metadata": {},
   "outputs": [],
   "source": [
    "trainLoan['-1_count'] = trainLoan.isin([-1]).sum(axis=1) #nambahin kolom missing values (-1)\n",
    "trainLoan['is_loanreference'] = userData['user_id'].isin(loan[\"reference_contact\"]) #nambahin kolom apakah usernya dijadiin loan reference\n",
    "trainLoan[\"has_borrowed\"] = userData[\"user_id\"].isin(loan[\"user_id\"]) #nambahin kolom apakah usernya pernah minjem\n",
    "loan[\"referenced_is_non\"] = loan[\"reference_contact\"].isin(nonBorrower[\"user_id\"]) #nambahin kolom apakah reference nya non fraud\n",
    "loan[\"referenced_is_fraud\"] = loan[\"reference_contact\"].isin(userData.loc[userData[\"label\"] == 1][\"user_id\"]) #nambahin kolom apakah reference nya fraud"
   ]
  },
  {
   "cell_type": "code",
   "execution_count": 4,
   "metadata": {},
   "outputs": [
    {
     "name": "stderr",
     "output_type": "stream",
     "text": [
      "C:\\Users\\Adli\\AppData\\Local\\Temp\\ipykernel_21956\\1053572513.py:9: SettingWithCopyWarning: \n",
      "A value is trying to be set on a copy of a slice from a DataFrame.\n",
      "Try using .loc[row_indexer,col_indexer] = value instead\n",
      "\n",
      "See the caveats in the documentation: https://pandas.pydata.org/pandas-docs/stable/user_guide/indexing.html#returning-a-view-versus-a-copy\n",
      "  referenceInfo.loc[referenceInfo['user_id'].isin(nonBorrower[\"user_id\"])]['label'] = None\n"
     ]
    }
   ],
   "source": [
    "# menambah data frame baru yang berisi info mengenai kontak referensi\n",
    "referenceInfo = pd.DataFrame()\n",
    "referenceInfo[\"user_id\"] = pd.concat([userData[\"user_id\"], (nonBorrower[\"user_id\"])])\n",
    "referenceInfo[\"referenced_by_fraud\"] = referenceInfo[\"user_id\"].isin(loanFraud[\"reference_contact\"])\n",
    "referenceInfo[\"referenced_by_non\"] = referenceInfo[\"user_id\"].isin(loan.loc[loan.user_id.isin(nonBorrower.user_id)][\"reference_contact\"])\n",
    "referenceInfo[\"referencing_fraud\"] = referenceInfo[\"user_id\"].isin(loan.loc[loan[\"referenced_is_fraud\"] == 1][\"user_id\"])\n",
    "referenceInfo[\"referencing_non\"] = referenceInfo[\"user_id\"].isin(loan.loc[loan[\"referenced_is_non\"] == 1][\"user_id\"])\n",
    "referenceInfo[\"label\"] = referenceInfo[\"user_id\"].isin(userData.loc[userData[\"label\"] == 1][\"user_id\"])\n",
    "referenceInfo.loc[referenceInfo['user_id'].isin(nonBorrower[\"user_id\"])]['label'] = None"
   ]
  },
  {
   "cell_type": "code",
   "execution_count": 5,
   "metadata": {},
   "outputs": [],
   "source": [
    "# membuat data frame baru yang berisi gabungan train loan dan reference\n",
    "trainLoanReference = trainLoan.set_index('user_id').join(referenceInfo.set_index('user_id'), lsuffix='_train', rsuffix='_reference').reset_index() \n",
    "trainLoanReference.rename(columns={\"label_train\" : \"label\"}, inplace=True)\n",
    "trainLoanReference.fillna(0, inplace=True)  "
   ]
  },
  {
   "cell_type": "markdown",
   "metadata": {},
   "source": [
    "EDA"
   ]
  },
  {
   "cell_type": "code",
   "execution_count": 6,
   "metadata": {},
   "outputs": [
    {
     "data": {
      "image/png": "[encoded data removed]",
      "text/plain": [
       "<Figure size 640x480 with 1 Axes>"
      ]
     },
     "metadata": {},
     "output_type": "display_data"
    }
   ],
   "source": [
    "def categoricalAnalysis(attribute) :\n",
    "    temp = userData.groupby([attribute, \"label\"]).count()[\"user_id\"].reset_index()\n",
    "    temp.rename(columns={\"user_id\" : \"count\"}, inplace=True)\n",
    "    temp[\"count\"] = temp.groupby([attribute], group_keys=False).apply(lambda x: x / (x.sum()))[\"count\"]\n",
    "\n",
    "    sns.barplot(data= temp, x=attribute, hue=\"label\", y= \"count\")\n",
    "    plt.show()\n",
    "\n",
    "def analysisCategorical(attribute) :\n",
    "    temp = userData.groupby([attribute, \"label\"]).count()[\"user_id\"].reset_index()\n",
    "    temp.rename(columns={\"user_id\" : \"count\"}, inplace=True)\n",
    "    temp[\"count\"] = temp.groupby([\"label\"], group_keys=False).apply(lambda x: x / (x.sum()))[\"count\"]\n",
    "\n",
    "    sns.barplot(data= temp, x=\"label\", hue=attribute, y= \"count\")\n",
    "    plt.show()\n",
    "\n",
    "attribute = \"pc10\"\n",
    "temp = userData.groupby([attribute, \"label\"]).count()[\"user_id\"].reset_index()\n",
    "temp.rename(columns={\"user_id\" : \"count\"}, inplace=True)\n",
    "temp[\"count\"] = temp.groupby([attribute], group_keys=False).apply(lambda x: x / (x.sum()))[\"count\"]\n",
    "\n",
    "analysisCategorical(\"pc10\")"
   ]
  },
  {
   "cell_type": "markdown",
   "metadata": {},
   "source": [
    "Modelling"
   ]
  },
  {
   "cell_type": "code",
   "execution_count": 7,
   "metadata": {},
   "outputs": [
    {
     "data": {
      "text/plain": [
       "0.500377545515975"
      ]
     },
     "execution_count": 7,
     "metadata": {},
     "output_type": "execute_result"
    }
   ],
   "source": [
    "import pandas as pd\n",
    "from sklearn.model_selection import train_test_split\n",
    "from sklearn.preprocessing import OneHotEncoder, StandardScaler\n",
    "from sklearn.compose import ColumnTransformer\n",
    "from sklearn.pipeline import Pipeline\n",
    "from sklearn.svm import SVC\n",
    "from sklearn.linear_model import RidgeClassifier\n",
    "from sklearn.metrics import precision_score\n",
    "from sklearn.tree import DecisionTreeClassifier\n",
    "from sklearn.metrics import precision_score\n",
    "from sklearn.metrics import roc_auc_score\n",
    "\n",
    "\n",
    "\n",
    "# Identify categorical and numeric columns\n",
    "categorical_cols = ['pc0', 'pc1']\n",
    "numeric_cols = ['pc2', 'pc3', 'pc4', 'pc5', 'pc6', 'pc7', 'pc10', 'pc11', 'pc12', 'pc13', 'pc14', 'pc15', 'pc16']\n",
    "\n",
    "# Define preprocessing for numeric and categorical data\n",
    "numeric_transformer = StandardScaler()\n",
    "categorical_transformer = OneHotEncoder(handle_unknown='ignore')\n",
    "\n",
    "# Create preprocessor\n",
    "preprocessor = ColumnTransformer(\n",
    "    transformers=[\n",
    "        ('num', numeric_transformer, numeric_cols),\n",
    "        ('cat', categorical_transformer, categorical_cols)\n",
    "    ])\n",
    "\n",
    "# Define the model\n",
    "model = DecisionTreeClassifier()\n",
    "\n",
    "# Create and evaluate the pipeline\n",
    "clf = Pipeline(steps=[('preprocessor', preprocessor), ('model', model)])\n",
    "\n",
    "\n",
    "# Split the data into training and testing sets\n",
    "X = userData.drop(['label'], axis = 1, errors = 'ignore')  # Replace 'target_column' with your actual target column name\n",
    "y = userData['label']\n",
    "X_train, X_test, y_train, y_test = train_test_split(X, y, test_size=0.2, random_state=42)\n",
    "\n",
    "\n",
    "# Train the model\n",
    "clf.fit(X_train, y_train)\n",
    "\n",
    "# Predict\n",
    "# predict = pd.Series(clf.predict(X_test), index = X_test.index)\n",
    "predict = clf.predict(X_test)\n",
    "\n",
    "# Evaluate the model\n",
    "cm = pd.DataFrame()\n",
    "cm[\"predicted\"] = predict\n",
    "cm[\"y_test\"] = y_test.to_numpy()\n",
    "cm.value_counts()\n",
    "\n",
    "roc_auc_score(y_test.values, predict)"
   ]
  },
  {
   "cell_type": "code",
   "execution_count": 8,
   "metadata": {},
   "outputs": [
    {
     "data": {
      "image/png": "[encoded data removed]",
      "text/plain": [
       "<Figure size 500x500 with 2 Axes>"
      ]
     },
     "metadata": {},
     "output_type": "display_data"
    }
   ],
   "source": [
    "cm = pd.crosstab(y_test.values, predict, rownames=['Actual'], colnames=['Predicted'])\n",
    "fig, (ax1) = plt.subplots(ncols=1, figsize=(5,5))\n",
    "sns.heatmap(cm, \n",
    "            xticklabels=['Not Fraud', 'Fraud'],\n",
    "            yticklabels=['Not Fraud', 'Fraud'],\n",
    "            annot=True,ax=ax1,\n",
    "            linewidths=.2,linecolor=\"Darkblue\", cmap=\"Blues\")\n",
    "plt.title('Confusion Matrix', fontsize=14)\n",
    "plt.show()"
   ]
  },
  {
   "cell_type": "markdown",
   "metadata": {},
   "source": [
    "**KESIMPULAN**\n",
    "- test ada yang minjem ada yang ga pernah minjem\n",
    "- test ada yang direference dan ada yang ga pernah direference\n",
    "- user yang direference oleh fraud belum tentu fraud\n",
    "- user yang mereference fraud belum tentu fraud\n",
    "- Orang yang ga minjem belum tentu non fraud\n",
    "\n",
    "**Notes**\n",
    "- label di referenceInfo dibikin -1 buat yang ada di dataframe nonBorrower"
   ]
  },
  {
   "cell_type": "code",
   "execution_count": 9,
   "metadata": {},
   "outputs": [],
   "source": [
    "trainLoanReference = trainLoan.set_index('user_id').join(referenceInfo.set_index('user_id'), lsuffix='_train', rsuffix='_reference').reset_index() #nyatuin data train sama loan\n",
    "trainLoanReference.rename(columns={\"label_train\" : \"label\"}, inplace=True)\n",
    "trainLoanReference.fillna(0, inplace=True)  "
   ]
  },
  {
   "cell_type": "code",
   "execution_count": 10,
   "metadata": {},
   "outputs": [],
   "source": [
    "import gc\n",
    "from datetime import datetime \n",
    "from sklearn.model_selection import train_test_split\n",
    "from sklearn.model_selection import KFold\n",
    "from sklearn.metrics import *\n",
    "from sklearn.ensemble import RandomForestClassifier\n",
    "from sklearn.ensemble import AdaBoostClassifier\n",
    "from sklearn import svm\n",
    "from sklearn.ensemble import GradientBoostingClassifier\n",
    "from xgboost import XGBClassifier\n",
    "\n",
    "from sklearn.model_selection import train_test_split\n",
    "\n",
    "X = trainLoanReference.drop([\"label\", \"label_reference\"], axis = 1, errors= ['ignore'])\n",
    "y = trainLoanReference['label']\n",
    "X_train, X_test, y_train, y_test = train_test_split(X, y, test_size=0.15, train_size=0.15, random_state=42)"
   ]
  },
  {
   "cell_type": "code",
   "execution_count": 11,
   "metadata": {},
   "outputs": [],
   "source": [
    "from sklearn.tree import DecisionTreeClassifier\n",
    "\n",
    "decisionTree = DecisionTreeClassifier()\n",
    "# Train the model\n",
    "decisionTree.fit(X_train, y_train)\n",
    "\n",
    "# Predict\n",
    "# predict = pd.Series(clf.predict(X_test), index = X_test.index)\n",
    "predictDecisionTree = decisionTree.predict(X_test)"
   ]
  },
  {
   "cell_type": "code",
   "execution_count": 19,
   "metadata": {},
   "outputs": [
    {
     "data": {
      "text/plain": [
       "0.009230802094217283"
      ]
     },
     "execution_count": 19,
     "metadata": {},
     "output_type": "execute_result"
    }
   ],
   "source": [
    "predictDecisionTree = decisionTree.predict(X_test)\n",
    "average_precision_score(y_test.values, predictDecisionTree)"
   ]
  },
  {
   "cell_type": "code",
   "execution_count": 13,
   "metadata": {},
   "outputs": [],
   "source": [
    "from sklearn.ensemble import RandomForestClassifier\n",
    "\n",
    "randomForest = RandomForestClassifier()\n",
    "# Train the model\n",
    "randomForest.fit(X_train, y_train)\n",
    "\n",
    "# Predict\n",
    "# predict = pd.Series(clf.predict(X_test), index = X_test.index)\n",
    "predictRandomForest = randomForest.predict(X_test)"
   ]
  },
  {
   "cell_type": "code",
   "execution_count": 20,
   "metadata": {},
   "outputs": [
    {
     "data": {
      "text/plain": [
       "0.009111877701450449"
      ]
     },
     "execution_count": 20,
     "metadata": {},
     "output_type": "execute_result"
    }
   ],
   "source": [
    "predictRandomForest = randomForest.predict(X_test)\n",
    "average_precision_score(y_test.values, predictRandomForest)"
   ]
  },
  {
   "cell_type": "code",
   "execution_count": 14,
   "metadata": {},
   "outputs": [],
   "source": [
    "from sklearn.neighbors import KNeighborsClassifier\n",
    "\n",
    "kNeighbors = KNeighborsClassifier()\n",
    "# Train the model\n",
    "kNeighbors.fit(X_train, y_train)\n",
    "\n",
    "# Predict\n",
    "# predict = pd.Series(clf.predict(X_test), index = X_test.index)\n",
    "predictKNeighbors = kNeighbors.predict(X_test)"
   ]
  },
  {
   "cell_type": "code",
   "execution_count": 21,
   "metadata": {},
   "outputs": [
    {
     "data": {
      "text/plain": [
       "0.008345630034592032"
      ]
     },
     "execution_count": 21,
     "metadata": {},
     "output_type": "execute_result"
    }
   ],
   "source": [
    "predictKNeighbors = kNeighbors.predict(X_test)\n",
    "average_precision_score(y_test.values, predictKNeighbors)"
   ]
  },
  {
   "cell_type": "code",
   "execution_count": 15,
   "metadata": {},
   "outputs": [],
   "source": [
    "from sklearn.svm import SVC\n",
    "\n",
    "svc = SVC()\n",
    "# Train the model\n",
    "svc.fit(X_train, y_train)\n",
    "\n",
    "# Predict\n",
    "# predict = pd.Series(clf.predict(X_test), index = X_test.index)\n",
    "predictSVC = svc.predict(X_test)"
   ]
  },
  {
   "cell_type": "code",
   "execution_count": 22,
   "metadata": {},
   "outputs": [
    {
     "data": {
      "text/plain": [
       "0.008345630034592032"
      ]
     },
     "execution_count": 22,
     "metadata": {},
     "output_type": "execute_result"
    }
   ],
   "source": [
    "predictSVC = svc.predict(X_test)\n",
    "average_precision_score(y_test.values, predictSVC)"
   ]
  },
  {
   "cell_type": "markdown",
   "metadata": {},
   "source": []
  }
 ],
 "metadata": {
  "kernelspec": {
   "display_name": "Python 3",
   "language": "python",
   "name": "python3"
  },
  "language_info": {
   "codemirror_mode": {
    "name": "ipython",
    "version": 3
   },
   "file_extension": ".py",
   "mimetype": "text/x-python",
   "name": "python",
   "nbconvert_exporter": "python",
   "pygments_lexer": "ipython3",
   "version": "3.10.6"
  }
 },
 "nbformat": 4,
 "nbformat_minor": 2
}
