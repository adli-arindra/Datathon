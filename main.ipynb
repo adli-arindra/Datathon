{
 "cells": [
  {
   "cell_type": "code",
   "execution_count": 2,
   "metadata": {},
   "outputs": [
    {
     "name": "stderr",
     "output_type": "stream",
     "text": [
      "C:\\Users\\farel\\AppData\\Roaming\\Python\\Python310\\site-packages\\IPython\\core\\magics\\osm.py:417: UserWarning: This is now an optional IPython functionality, setting dhist requires you to install the `pickleshare` library.\n",
      "  self.shell.db['dhist'] = compress_dhist(dhist)[-100:]\n"
     ]
    },
    {
     "name": "stdout",
     "output_type": "stream",
     "text": [
      "c:\\Users\\farel\\Downloads\\datathon\n"
     ]
    }
   ],
   "source": [
    "import numpy as np\n",
    "import pandas as pd\n",
    "import matplotlib.pyplot as plt\n",
    "\n",
    "%cd ..\n",
    "\n",
    "train = pd.read_csv('train.csv')\n",
    "test = pd.read_csv('test.csv')\n",
    "submission = pd.read_csv('sample_submission.csv')\n",
    "non_borrower = pd.read_csv('non_borrower_user.csv')\n",
    "loan = pd.read_csv('loan_activities.csv')"
   ]
  },
  {
   "cell_type": "code",
   "execution_count": 3,
   "metadata": {},
   "outputs": [],
   "source": [
    "train_loan = train.set_index('user_id').join(loan.set_index('user_id')).reset_index()\n",
    "train_loan = train_loan.drop('pc8', axis=1)\n",
    "train_loan = train_loan.drop('pc9', axis=1)\n",
    "train['-1_count'] = train.isin([-1]).sum(axis=1)\n",
    "train['is_loanreference'] = train['user_id'].isin(loan[\"reference_contact\"])\n",
    "train[\"has_borrowed\"] = train[\"user_id\"].isin(loan[\"user_id\"])\n",
    "loan[\"reference_contact_is_non_borrower\"] = loan[\"reference_contact\"].isin(non_borrower[\"user_id\"])\n"
   ]
  }
 ],
 "metadata": {
  "kernelspec": {
   "display_name": "Python 3",
   "language": "python",
   "name": "python3"
  },
  "language_info": {
   "codemirror_mode": {
    "name": "ipython",
    "version": 3
   },
   "file_extension": ".py",
   "mimetype": "text/x-python",
   "name": "python",
   "nbconvert_exporter": "python",
   "pygments_lexer": "ipython3",
   "version": "3.10.5"
  }
 },
 "nbformat": 4,
 "nbformat_minor": 2
}
