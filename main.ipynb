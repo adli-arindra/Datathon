{
 "cells": [
  {
   "cell_type": "code",
   "execution_count": 1,
   "metadata": {},
   "outputs": [
    {
     "name": "stdout",
     "output_type": "stream",
     "text": [
      "c:\\Users\\Adli\\Desktop\\ilegil\\bintangkecilmama\\DATATHON\n"
     ]
    }
   ],
   "source": [
    "import numpy as np\n",
    "import pandas as pd\n",
    "import matplotlib.pyplot as plt\n",
    "\n",
    "%cd ..\n",
    "\n",
    "train = pd.read_csv('train.csv')\n",
    "test = pd.read_csv('test.csv')\n",
    "submission = pd.read_csv('sample_submission.csv')\n",
    "non_borrower = pd.read_csv('non_borrower_user.csv')\n",
    "loan = pd.read_csv('loan_activities.csv')"
   ]
  },
  {
   "cell_type": "markdown",
   "metadata": {},
   "source": [
    "**KESIMPULAN**\n",
    "- User yang mereference non borrower mempunyai 45.5% kemungkinan fraud\n",
    "- User yang mereferance fraud mempunyai 1.5% kemungkinan fraud"
   ]
  },
  {
   "cell_type": "code",
   "execution_count": 22,
   "metadata": {},
   "outputs": [],
   "source": [
    "train['-1_count'] = train.isin([-1]).sum(axis=1)\n",
    "train['is_loanreference'] = train['user_id'].isin(loan[\"reference_contact\"])\n",
    "train[\"has_borrowed\"] = train[\"user_id\"].isin(loan[\"user_id\"])\n",
    "loan[\"referencing_non\"] = loan[\"reference_contact\"].isin(non_borrower[\"user_id\"])\n",
    "loan[\"referencing_fraud\"] = loan[\"reference_contact\"].isin(train.loc[train[\"label\"] == 1][\"user_id\"])\n",
    "train_loan = train.set_index('user_id').join(loan.set_index('user_id')).reset_index()\n",
    "train_loan = train_loan.drop('pc8', axis=1)\n",
    "train_loan = train_loan.drop('pc9', axis=1)\n",
    "train[\"referenced_by_fraud\"] = train[\"user_id\"].isin()"
   ]
  },
  {
   "cell_type": "code",
   "execution_count": 24,
   "metadata": {},
   "outputs": [
    {
     "data": {
      "text/plain": [
       "label  referencing_fraud\n",
       "0      False                1459562\n",
       "1      False                   7873\n",
       "0      True                    3533\n",
       "1      True                     122\n",
       "dtype: int64"
      ]
     },
     "execution_count": 24,
     "metadata": {},
     "output_type": "execute_result"
    }
   ],
   "source": [
    "train_loan[[\"label\", \"referencing_fraud\"]].value_counts()"
   ]
  }
 ],
 "metadata": {
  "kernelspec": {
   "display_name": "Python 3",
   "language": "python",
   "name": "python3"
  },
  "language_info": {
   "codemirror_mode": {
    "name": "ipython",
    "version": 3
   },
   "file_extension": ".py",
   "mimetype": "text/x-python",
   "name": "python",
   "nbconvert_exporter": "python",
   "pygments_lexer": "ipython3",
   "version": "3.10.5"
  }
 },
 "nbformat": 4,
 "nbformat_minor": 2
}
