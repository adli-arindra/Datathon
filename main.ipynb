{
 "cells": [
  {
   "cell_type": "code",
   "execution_count": 1,
   "metadata": {},
   "outputs": [
    {
     "name": "stderr",
     "output_type": "stream",
     "text": [
      "C:\\Users\\farel\\AppData\\Roaming\\Python\\Python310\\site-packages\\IPython\\core\\magics\\osm.py:417: UserWarning: This is now an optional IPython functionality, setting dhist requires you to install the `pickleshare` library.\n",
      "  self.shell.db['dhist'] = compress_dhist(dhist)[-100:]\n"
     ]
    },
    {
     "name": "stdout",
     "output_type": "stream",
     "text": [
      "c:\\Users\\farel\\Downloads\\datathon\n"
     ]
    }
   ],
   "source": [
    "import numpy as np\n",
    "import pandas as pd\n",
    "import matplotlib.pyplot as plt\n",
    "import seaborn as sns\n",
    "\n",
    "%cd ..\n",
    "\n",
    "userData = pd.read_csv('train.csv')\n",
    "test = pd.read_csv('test.csv')\n",
    "submission = pd.read_csv('sample_submission.csv')\n",
    "nonBorrower = pd.read_csv('non_borrower_user.csv')\n",
    "loan = pd.read_csv('loan_activities.csv')"
   ]
  },
  {
   "cell_type": "code",
   "execution_count": 2,
   "metadata": {},
   "outputs": [],
   "source": [
    "trainLoan = userData.set_index('user_id').join(loan.set_index('user_id')).reset_index() #nyatuin data train sama loan\n",
    "trainLoan = trainLoan.drop('pc8', axis=1) #drop kolom yang sama menurut heatmap\n",
    "trainLoan = trainLoan.drop('pc9', axis=1) #drop kolom yang sama menurut heatmap\n",
    "userData['-1_count'] = userData.isin([-1]).sum(axis=1) #nambahin kolom missing values (-1)\n",
    "userData['is_loanreference'] = userData['user_id'].isin(loan[\"reference_contact\"]) #nambahin kolom apakah usernya dijadiin loan reference\n",
    "userData[\"has_borrowed\"] = userData[\"user_id\"].isin(loan[\"user_id\"]) #nambahin kolom apakah usernya pernah minjem\n",
    "\n",
    "nonLoan = nonBorrower.set_index('user_id').join(loan.set_index('user_id')).reset_index()\n",
    "\n",
    "loan[\"referenced_is_non\"] = loan[\"reference_contact\"].isin(nonBorrower[\"user_id\"])\n",
    "loan[\"referenced_is_fraud\"] = loan[\"reference_contact\"].isin(userData.loc[userData[\"label\"] == 1][\"user_id\"])"
   ]
  },
  {
   "cell_type": "code",
   "execution_count": 3,
   "metadata": {},
   "outputs": [],
   "source": [
    "loanFraud = trainLoan.loc[trainLoan[\"label\"]==1]\n",
    "loanFraud = loanFraud[[\"user_id\", \"reference_contact\", \"loan_type\", \"ts\"]]\n",
    "loanNonFraud = trainLoan.loc[trainLoan[\"label\"]==0]\n",
    "loanNonFraud = loanNonFraud[[\"user_id\", \"reference_contact\", \"loan_type\", \"ts\"]]"
   ]
  },
  {
   "cell_type": "code",
   "execution_count": 15,
   "metadata": {},
   "outputs": [
    {
     "name": "stderr",
     "output_type": "stream",
     "text": [
      "C:\\Users\\farel\\AppData\\Local\\Temp\\ipykernel_19380\\3987793918.py:8: SettingWithCopyWarning: \n",
      "A value is trying to be set on a copy of a slice from a DataFrame.\n",
      "Try using .loc[row_indexer,col_indexer] = value instead\n",
      "\n",
      "See the caveats in the documentation: https://pandas.pydata.org/pandas-docs/stable/user_guide/indexing.html#returning-a-view-versus-a-copy\n",
      "  referenceInfo.loc[referenceInfo['user_id'].isin(nonBorrower[\"user_id\"])]['label'] = None\n"
     ]
    }
   ],
   "source": [
    "referenceInfo = pd.DataFrame()\n",
    "referenceInfo[\"user_id\"] = pd.concat([userData[\"user_id\"], (nonBorrower[\"user_id\"])])\n",
    "referenceInfo[\"referenced_by_fraud\"] = referenceInfo[\"user_id\"].isin(loanFraud[\"reference_contact\"])\n",
    "referenceInfo[\"referenced_by_non\"] = referenceInfo[\"user_id\"].isin(loan.loc[loan.user_id.isin(nonBorrower.user_id)][\"reference_contact\"])\n",
    "referenceInfo[\"referencing_fraud\"] = referenceInfo[\"user_id\"].isin(loan.loc[loan[\"referenced_is_fraud\"] == 1][\"user_id\"])\n",
    "referenceInfo[\"referencing_non\"] = referenceInfo[\"user_id\"].isin(loan.loc[loan[\"referenced_is_non\"] == 1][\"user_id\"])\n",
    "referenceInfo[\"label\"] = referenceInfo[\"user_id\"].isin(userData.loc[userData[\"label\"] == 1][\"user_id\"])\n",
    "referenceInfo.loc[referenceInfo['user_id'].isin(nonBorrower[\"user_id\"])]['label'] = None"
   ]
  },
  {
   "cell_type": "code",
   "execution_count": 16,
   "metadata": {},
   "outputs": [
    {
     "data": {
      "text/plain": [
       "label\n",
       "False    3321991\n",
       "True       10857\n",
       "Name: count, dtype: int64"
      ]
     },
     "execution_count": 16,
     "metadata": {},
     "output_type": "execute_result"
    }
   ],
   "source": [
    "referenceInfo['label'].value_counts()"
   ]
  },
  {
   "cell_type": "code",
   "execution_count": 9,
   "metadata": {},
   "outputs": [
    {
     "data": {
      "text/html": [
       "<div>\n",
       "<style scoped>\n",
       "    .dataframe tbody tr th:only-of-type {\n",
       "        vertical-align: middle;\n",
       "    }\n",
       "\n",
       "    .dataframe tbody tr th {\n",
       "        vertical-align: top;\n",
       "    }\n",
       "\n",
       "    .dataframe thead th {\n",
       "        text-align: right;\n",
       "    }\n",
       "</style>\n",
       "<table border=\"1\" class=\"dataframe\">\n",
       "  <thead>\n",
       "    <tr style=\"text-align: right;\">\n",
       "      <th></th>\n",
       "      <th>user_id</th>\n",
       "      <th>pc0</th>\n",
       "      <th>pc1</th>\n",
       "      <th>pc2</th>\n",
       "      <th>pc3</th>\n",
       "      <th>pc4</th>\n",
       "      <th>pc5</th>\n",
       "      <th>pc6</th>\n",
       "      <th>pc7</th>\n",
       "      <th>pc8</th>\n",
       "      <th>...</th>\n",
       "      <th>pc11</th>\n",
       "      <th>pc12</th>\n",
       "      <th>pc13</th>\n",
       "      <th>pc14</th>\n",
       "      <th>pc15</th>\n",
       "      <th>pc16</th>\n",
       "      <th>label</th>\n",
       "      <th>-1_count</th>\n",
       "      <th>is_loanreference</th>\n",
       "      <th>has_borrowed</th>\n",
       "    </tr>\n",
       "  </thead>\n",
       "  <tbody>\n",
       "    <tr>\n",
       "      <th>0</th>\n",
       "      <td>3</td>\n",
       "      <td>1.0</td>\n",
       "      <td>1.0</td>\n",
       "      <td>0.275</td>\n",
       "      <td>0.255</td>\n",
       "      <td>0.927273</td>\n",
       "      <td>0.4</td>\n",
       "      <td>0.260</td>\n",
       "      <td>0.040</td>\n",
       "      <td>0.254</td>\n",
       "      <td>...</td>\n",
       "      <td>0.072727</td>\n",
       "      <td>0.023077</td>\n",
       "      <td>0.078431</td>\n",
       "      <td>0.750000</td>\n",
       "      <td>0.018182</td>\n",
       "      <td>0.250000</td>\n",
       "      <td>0</td>\n",
       "      <td>0</td>\n",
       "      <td>True</td>\n",
       "      <td>False</td>\n",
       "    </tr>\n",
       "    <tr>\n",
       "      <th>1</th>\n",
       "      <td>5</td>\n",
       "      <td>0.0</td>\n",
       "      <td>0.0</td>\n",
       "      <td>0.430</td>\n",
       "      <td>0.365</td>\n",
       "      <td>0.848837</td>\n",
       "      <td>0.4</td>\n",
       "      <td>1.253</td>\n",
       "      <td>0.210</td>\n",
       "      <td>1.235</td>\n",
       "      <td>...</td>\n",
       "      <td>0.151163</td>\n",
       "      <td>0.014366</td>\n",
       "      <td>0.054795</td>\n",
       "      <td>0.500000</td>\n",
       "      <td>0.011628</td>\n",
       "      <td>0.250000</td>\n",
       "      <td>0</td>\n",
       "      <td>0</td>\n",
       "      <td>True</td>\n",
       "      <td>True</td>\n",
       "    </tr>\n",
       "    <tr>\n",
       "      <th>2</th>\n",
       "      <td>9</td>\n",
       "      <td>1.0</td>\n",
       "      <td>3.0</td>\n",
       "      <td>1.315</td>\n",
       "      <td>0.825</td>\n",
       "      <td>0.627376</td>\n",
       "      <td>0.9</td>\n",
       "      <td>2.385</td>\n",
       "      <td>0.128</td>\n",
       "      <td>2.270</td>\n",
       "      <td>...</td>\n",
       "      <td>0.372624</td>\n",
       "      <td>0.048218</td>\n",
       "      <td>0.054545</td>\n",
       "      <td>0.777778</td>\n",
       "      <td>0.003802</td>\n",
       "      <td>0.111111</td>\n",
       "      <td>0</td>\n",
       "      <td>0</td>\n",
       "      <td>True</td>\n",
       "      <td>True</td>\n",
       "    </tr>\n",
       "    <tr>\n",
       "      <th>3</th>\n",
       "      <td>10</td>\n",
       "      <td>0.0</td>\n",
       "      <td>5.0</td>\n",
       "      <td>-1.000</td>\n",
       "      <td>-1.000</td>\n",
       "      <td>-1.000000</td>\n",
       "      <td>-1.0</td>\n",
       "      <td>-1.000</td>\n",
       "      <td>-1.000</td>\n",
       "      <td>-1.000</td>\n",
       "      <td>...</td>\n",
       "      <td>-1.000000</td>\n",
       "      <td>-1.000000</td>\n",
       "      <td>-1.000000</td>\n",
       "      <td>-1.000000</td>\n",
       "      <td>-1.000000</td>\n",
       "      <td>-1.000000</td>\n",
       "      <td>0</td>\n",
       "      <td>14</td>\n",
       "      <td>True</td>\n",
       "      <td>True</td>\n",
       "    </tr>\n",
       "    <tr>\n",
       "      <th>4</th>\n",
       "      <td>17</td>\n",
       "      <td>1.0</td>\n",
       "      <td>1.0</td>\n",
       "      <td>0.235</td>\n",
       "      <td>0.160</td>\n",
       "      <td>0.680851</td>\n",
       "      <td>0.1</td>\n",
       "      <td>0.120</td>\n",
       "      <td>0.002</td>\n",
       "      <td>0.104</td>\n",
       "      <td>...</td>\n",
       "      <td>0.319149</td>\n",
       "      <td>0.133333</td>\n",
       "      <td>0.031250</td>\n",
       "      <td>-1.000000</td>\n",
       "      <td>-1.000000</td>\n",
       "      <td>-1.000000</td>\n",
       "      <td>0</td>\n",
       "      <td>3</td>\n",
       "      <td>True</td>\n",
       "      <td>True</td>\n",
       "    </tr>\n",
       "  </tbody>\n",
       "</table>\n",
       "<p>5 rows × 22 columns</p>\n",
       "</div>"
      ],
      "text/plain": [
       "   user_id  pc0  pc1    pc2    pc3       pc4  pc5    pc6    pc7    pc8  ...  \\\n",
       "0        3  1.0  1.0  0.275  0.255  0.927273  0.4  0.260  0.040  0.254  ...   \n",
       "1        5  0.0  0.0  0.430  0.365  0.848837  0.4  1.253  0.210  1.235  ...   \n",
       "2        9  1.0  3.0  1.315  0.825  0.627376  0.9  2.385  0.128  2.270  ...   \n",
       "3       10  0.0  5.0 -1.000 -1.000 -1.000000 -1.0 -1.000 -1.000 -1.000  ...   \n",
       "4       17  1.0  1.0  0.235  0.160  0.680851  0.1  0.120  0.002  0.104  ...   \n",
       "\n",
       "       pc11      pc12      pc13      pc14      pc15      pc16  label  \\\n",
       "0  0.072727  0.023077  0.078431  0.750000  0.018182  0.250000      0   \n",
       "1  0.151163  0.014366  0.054795  0.500000  0.011628  0.250000      0   \n",
       "2  0.372624  0.048218  0.054545  0.777778  0.003802  0.111111      0   \n",
       "3 -1.000000 -1.000000 -1.000000 -1.000000 -1.000000 -1.000000      0   \n",
       "4  0.319149  0.133333  0.031250 -1.000000 -1.000000 -1.000000      0   \n",
       "\n",
       "   -1_count  is_loanreference  has_borrowed  \n",
       "0         0              True         False  \n",
       "1         0              True          True  \n",
       "2         0              True          True  \n",
       "3        14              True          True  \n",
       "4         3              True          True  \n",
       "\n",
       "[5 rows x 22 columns]"
      ]
     },
     "execution_count": 9,
     "metadata": {},
     "output_type": "execute_result"
    }
   ],
   "source": [
    "userData.head()\n"
   ]
  },
  {
   "cell_type": "code",
   "execution_count": 92,
   "metadata": {},
   "outputs": [
    {
     "ename": "ValueError",
     "evalue": "cannot insert pc0, already exists",
     "output_type": "error",
     "traceback": [
      "\u001b[1;31m---------------------------------------------------------------------------\u001b[0m",
      "\u001b[1;31mValueError\u001b[0m                                Traceback (most recent call last)",
      "\u001b[1;32m~\\AppData\\Local\\Temp\\ipykernel_19380\\2752918241.py\u001b[0m in \u001b[0;36m?\u001b[1;34m()\u001b[0m\n\u001b[0;32m     20\u001b[0m \u001b[1;33m\u001b[0m\u001b[0m\n\u001b[0;32m     21\u001b[0m \u001b[1;31m#temp = userData.groupby([\"pc0\", \"label\"]).count()[\"user_id\"].reset_index()\u001b[0m\u001b[1;33m\u001b[0m\u001b[1;33m\u001b[0m\u001b[0m\n\u001b[0;32m     22\u001b[0m \u001b[0mtemp\u001b[0m \u001b[1;33m=\u001b[0m \u001b[0muserData\u001b[0m\u001b[1;33m.\u001b[0m\u001b[0mgroupby\u001b[0m\u001b[1;33m(\u001b[0m\u001b[1;33m[\u001b[0m\u001b[1;34m\"label\"\u001b[0m\u001b[1;33m,\u001b[0m \u001b[1;34m\"pc0\"\u001b[0m\u001b[1;33m]\u001b[0m\u001b[1;33m)\u001b[0m\u001b[1;33m.\u001b[0m\u001b[0magg\u001b[0m\u001b[1;33m(\u001b[0m\u001b[1;33m{\u001b[0m\u001b[1;34m'user_id'\u001b[0m\u001b[1;33m:\u001b[0m \u001b[1;34m'count'\u001b[0m\u001b[1;33m}\u001b[0m\u001b[1;33m)\u001b[0m\u001b[1;33m\u001b[0m\u001b[1;33m\u001b[0m\u001b[0m\n\u001b[0;32m     23\u001b[0m \u001b[1;33m\u001b[0m\u001b[0m\n\u001b[1;32m---> 24\u001b[1;33m \u001b[0mtemp\u001b[0m\u001b[1;33m.\u001b[0m\u001b[0mgroupby\u001b[0m\u001b[1;33m(\u001b[0m\u001b[1;33m[\u001b[0m\u001b[1;34m'pc0'\u001b[0m\u001b[1;33m]\u001b[0m\u001b[1;33m)\u001b[0m\u001b[1;33m.\u001b[0m\u001b[0mapply\u001b[0m\u001b[1;33m(\u001b[0m\u001b[1;32mlambda\u001b[0m \u001b[0mx\u001b[0m\u001b[1;33m:\u001b[0m \u001b[0mx\u001b[0m \u001b[1;33m/\u001b[0m\u001b[0mx\u001b[0m\u001b[1;33m.\u001b[0m\u001b[0msum\u001b[0m\u001b[1;33m(\u001b[0m\u001b[1;33m)\u001b[0m\u001b[1;33m)\u001b[0m\u001b[1;33m.\u001b[0m\u001b[0mreset_index\u001b[0m\u001b[1;33m(\u001b[0m\u001b[1;33m)\u001b[0m\u001b[1;33m\u001b[0m\u001b[1;33m\u001b[0m\u001b[0m\n\u001b[0m\u001b[0;32m     25\u001b[0m \u001b[1;33m\u001b[0m\u001b[0m\n\u001b[0;32m     26\u001b[0m \u001b[1;31m#temp = userData.groupby([\"pc0\", \"label\"]).count()[\"user_id\"].reset_index()\u001b[0m\u001b[1;33m\u001b[0m\u001b[1;33m\u001b[0m\u001b[0m\n\u001b[0;32m     27\u001b[0m \u001b[0msns\u001b[0m\u001b[1;33m.\u001b[0m\u001b[0mbarplot\u001b[0m\u001b[1;33m(\u001b[0m\u001b[0mdata\u001b[0m\u001b[1;33m=\u001b[0m \u001b[0mtemp\u001b[0m\u001b[1;33m,\u001b[0m \u001b[0mx\u001b[0m\u001b[1;33m=\u001b[0m\u001b[1;34m\"pc0\"\u001b[0m\u001b[1;33m,\u001b[0m \u001b[0mhue\u001b[0m\u001b[1;33m=\u001b[0m\u001b[1;34m\"label\"\u001b[0m\u001b[1;33m,\u001b[0m \u001b[0my\u001b[0m\u001b[1;33m=\u001b[0m \u001b[1;34m\"user_id\"\u001b[0m\u001b[1;33m)\u001b[0m\u001b[1;33m\u001b[0m\u001b[1;33m\u001b[0m\u001b[0m\n",
      "\u001b[1;32mc:\\Users\\farel\\AppData\\Local\\Programs\\Python\\Python310\\lib\\site-packages\\pandas\\core\\frame.py\u001b[0m in \u001b[0;36m?\u001b[1;34m(self, level, drop, inplace, col_level, col_fill, allow_duplicates, names)\u001b[0m\n\u001b[0;32m   6468\u001b[0m                     level_values = algorithms.take(\n\u001b[0;32m   6469\u001b[0m                         \u001b[0mlevel_values\u001b[0m\u001b[1;33m,\u001b[0m \u001b[0mlab\u001b[0m\u001b[1;33m,\u001b[0m \u001b[0mallow_fill\u001b[0m\u001b[1;33m=\u001b[0m\u001b[1;32mTrue\u001b[0m\u001b[1;33m,\u001b[0m \u001b[0mfill_value\u001b[0m\u001b[1;33m=\u001b[0m\u001b[0mlev\u001b[0m\u001b[1;33m.\u001b[0m\u001b[0m_na_value\u001b[0m\u001b[1;33m\u001b[0m\u001b[1;33m\u001b[0m\u001b[0m\n\u001b[0;32m   6470\u001b[0m                     )\n\u001b[0;32m   6471\u001b[0m \u001b[1;33m\u001b[0m\u001b[0m\n\u001b[1;32m-> 6472\u001b[1;33m                 new_obj.insert(\n\u001b[0m\u001b[0;32m   6473\u001b[0m                     \u001b[1;36m0\u001b[0m\u001b[1;33m,\u001b[0m\u001b[1;33m\u001b[0m\u001b[1;33m\u001b[0m\u001b[0m\n\u001b[0;32m   6474\u001b[0m                     \u001b[0mname\u001b[0m\u001b[1;33m,\u001b[0m\u001b[1;33m\u001b[0m\u001b[1;33m\u001b[0m\u001b[0m\n\u001b[0;32m   6475\u001b[0m                     \u001b[0mlevel_values\u001b[0m\u001b[1;33m,\u001b[0m\u001b[1;33m\u001b[0m\u001b[1;33m\u001b[0m\u001b[0m\n",
      "\u001b[1;32mc:\\Users\\farel\\AppData\\Local\\Programs\\Python\\Python310\\lib\\site-packages\\pandas\\core\\frame.py\u001b[0m in \u001b[0;36m?\u001b[1;34m(self, loc, column, value, allow_duplicates)\u001b[0m\n\u001b[0;32m   5154\u001b[0m                 \u001b[1;34m\"'self.flags.allows_duplicate_labels' is False.\"\u001b[0m\u001b[1;33m\u001b[0m\u001b[1;33m\u001b[0m\u001b[0m\n\u001b[0;32m   5155\u001b[0m             )\n\u001b[0;32m   5156\u001b[0m         \u001b[1;32mif\u001b[0m \u001b[1;32mnot\u001b[0m \u001b[0mallow_duplicates\u001b[0m \u001b[1;32mand\u001b[0m \u001b[0mcolumn\u001b[0m \u001b[1;32min\u001b[0m \u001b[0mself\u001b[0m\u001b[1;33m.\u001b[0m\u001b[0mcolumns\u001b[0m\u001b[1;33m:\u001b[0m\u001b[1;33m\u001b[0m\u001b[1;33m\u001b[0m\u001b[0m\n\u001b[0;32m   5157\u001b[0m             \u001b[1;31m# Should this be a different kind of error??\u001b[0m\u001b[1;33m\u001b[0m\u001b[1;33m\u001b[0m\u001b[0m\n\u001b[1;32m-> 5158\u001b[1;33m             \u001b[1;32mraise\u001b[0m \u001b[0mValueError\u001b[0m\u001b[1;33m(\u001b[0m\u001b[1;34mf\"cannot insert {column}, already exists\"\u001b[0m\u001b[1;33m)\u001b[0m\u001b[1;33m\u001b[0m\u001b[1;33m\u001b[0m\u001b[0m\n\u001b[0m\u001b[0;32m   5159\u001b[0m         \u001b[1;32mif\u001b[0m \u001b[1;32mnot\u001b[0m \u001b[0mis_integer\u001b[0m\u001b[1;33m(\u001b[0m\u001b[0mloc\u001b[0m\u001b[1;33m)\u001b[0m\u001b[1;33m:\u001b[0m\u001b[1;33m\u001b[0m\u001b[1;33m\u001b[0m\u001b[0m\n\u001b[0;32m   5160\u001b[0m             \u001b[1;32mraise\u001b[0m \u001b[0mTypeError\u001b[0m\u001b[1;33m(\u001b[0m\u001b[1;34m\"loc must be int\"\u001b[0m\u001b[1;33m)\u001b[0m\u001b[1;33m\u001b[0m\u001b[1;33m\u001b[0m\u001b[0m\n\u001b[0;32m   5161\u001b[0m         \u001b[1;31m# convert non stdlib ints to satisfy typing checks\u001b[0m\u001b[1;33m\u001b[0m\u001b[1;33m\u001b[0m\u001b[0m\n",
      "\u001b[1;31mValueError\u001b[0m: cannot insert pc0, already exists"
     ]
    }
   ],
   "source": [
    "def plot_grouped_bar_chart(df, x_col, hue_col, title):\n",
    "    sns.countplot(data=df, x=x_col, hue=hue_col)\n",
    "    plt.xlabel(x_col.capitalize())\n",
    "    plt.ylabel('Count')\n",
    "    plt.title(title)\n",
    "    plt.legend(title=hue_col.capitalize())\n",
    "    plt.show()\n",
    "\n",
    "def draw_features(transactions, use_features):\n",
    "    \n",
    "    for feat in use_features:\n",
    "        agg = transactions.groupby(['label', feat]).agg({'user_id': 'count'})\n",
    "        df = agg.groupby(level=0).apply(lambda x: x / float(x.sum())).reset_index()\n",
    "        \n",
    "        plt.figure(figsize=(14, 10))\n",
    "        ax = sns.factorplot(x=feat, y='user_id', hue='label', data=df, kind='bar', size = 6, aspect = 2)\n",
    "        ax.fig.suptitle(feat.upper()+' by is_fraud - % of transactions')\n",
    "        ax.set_xticklabels(rotation=20)\n",
    "        plt.show()\n",
    "\n",
    "#temp = userData.groupby([\"pc0\", \"label\"]).count()[\"user_id\"].reset_index()\n",
    "temp = userData.groupby([\"label\", \"pc0\"]).agg({'user_id': 'count'})\n",
    "\n",
    "temp.groupby(['pc0']).apply(lambda x: x /x.sum()).reset_index()\n",
    "\n",
    "#temp = userData.groupby([\"pc0\", \"label\"]).count()[\"user_id\"].reset_index()\n",
    "sns.barplot(data= temp, x=\"pc0\", hue=\"label\", y= \"user_id\")\n",
    "# plt.show()"
   ]
  },
  {
   "cell_type": "code",
   "execution_count": 17,
   "metadata": {},
   "outputs": [
    {
     "data": {
      "image/png": "[encoded data removed]",
      "text/plain": [
       "<Figure size 640x480 with 1 Axes>"
      ]
     },
     "metadata": {},
     "output_type": "display_data"
    }
   ],
   "source": [
    "plot_grouped_bar_chart(referenceInfo, 'label', 'referenced_by_fraud', \"label & referenced_by_fraud\")"
   ]
  },
  {
   "cell_type": "markdown",
   "metadata": {},
   "source": [
    "**KESIMPULAN**\n",
    "- test ada yang minjem ada yang ga pernah minjem\n",
    "- test ada yang direference dan ada yang ga pernah direference\n",
    "- user yang direference oleh fraud belum tentu fraud\n",
    "- user yang mereference fraud belum tentu fraud\n",
    "- Orang yang ga minjem belum tentu non fraud\n",
    "\n",
    "**Notes**\n",
    "- label di referenceInfo dibikin -1 buat yang ada di dataframe nonBorrower"
   ]
  },
  {
   "cell_type": "markdown",
   "metadata": {},
   "source": []
  }
 ],
 "metadata": {
  "kernelspec": {
   "display_name": "Python 3",
   "language": "python",
   "name": "python3"
  },
  "language_info": {
   "codemirror_mode": {
    "name": "ipython",
    "version": 3
   },
   "file_extension": ".py",
   "mimetype": "text/x-python",
   "name": "python",
   "nbconvert_exporter": "python",
   "pygments_lexer": "ipython3",
   "version": "3.10.5"
  }
 },
 "nbformat": 4,
 "nbformat_minor": 2
}
