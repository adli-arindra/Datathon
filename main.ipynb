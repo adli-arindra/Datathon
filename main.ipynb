{
 "cells": [
  {
   "cell_type": "code",
   "execution_count": 2,
   "metadata": {},
   "outputs": [
    {
     "name": "stdout",
     "output_type": "stream",
     "text": [
      "c:\\Users\\Adli\\Desktop\\ilegil\\bintangkecilmama\\DATATHON\n"
     ]
    }
   ],
   "source": [
    "import numpy as np\n",
    "import pandas as pd\n",
    "import matplotlib.pyplot as plt\n",
    "import seaborn as sns\n",
    "\n",
    "%cd ..\n",
    "\n",
    "userData = pd.read_csv('train.csv')\n",
    "test = pd.read_csv('test.csv')\n",
    "submission = pd.read_csv('sample_submission.csv')\n",
    "nonBorrower = pd.read_csv('non_borrower_user.csv')\n",
    "loan = pd.read_csv('loan_activities.csv')"
   ]
  },
  {
   "cell_type": "code",
   "execution_count": 3,
   "metadata": {},
   "outputs": [],
   "source": [
    "trainLoan = userData.set_index('user_id').join(loan.set_index('user_id')).reset_index() #nyatuin data train sama loan\n",
    "trainLoan = trainLoan.drop('pc8', axis=1) #drop kolom yang sama menurut heatmap\n",
    "trainLoan = trainLoan.drop('pc9', axis=1) #drop kolom yang sama menurut heatmap\n",
    "userData['-1_count'] = userData.isin([-1]).sum(axis=1) #nambahin kolom missing values (-1)\n",
    "userData['is_loanreference'] = userData['user_id'].isin(loan[\"reference_contact\"]) #nambahin kolom apakah usernya dijadiin loan reference\n",
    "userData[\"has_borrowed\"] = userData[\"user_id\"].isin(loan[\"user_id\"]) #nambahin kolom apakah usernya pernah minjem\n",
    "\n",
    "nonLoan = nonBorrower.set_index('user_id').join(loan.set_index('user_id')).reset_index()\n",
    "\n",
    "loan[\"referenced_is_non\"] = loan[\"reference_contact\"].isin(nonBorrower[\"user_id\"])\n",
    "loan[\"referenced_is_fraud\"] = loan[\"reference_contact\"].isin(userData.loc[userData[\"label\"] == 1][\"user_id\"])"
   ]
  },
  {
   "cell_type": "code",
   "execution_count": 4,
   "metadata": {},
   "outputs": [],
   "source": [
    "loanFraud = trainLoan.loc[trainLoan[\"label\"]==1]\n",
    "loanFraud = loanFraud[[\"user_id\", \"reference_contact\", \"loan_type\", \"ts\"]]\n",
    "loanNonFraud = trainLoan.loc[trainLoan[\"label\"]==0]\n",
    "loanNonFraud = loanNonFraud[[\"user_id\", \"reference_contact\", \"loan_type\", \"ts\"]]"
   ]
  },
  {
   "cell_type": "code",
   "execution_count": 5,
   "metadata": {},
   "outputs": [
    {
     "name": "stderr",
     "output_type": "stream",
     "text": [
      "C:\\Users\\Adli\\AppData\\Local\\Temp\\ipykernel_18988\\3987793918.py:8: SettingWithCopyWarning: \n",
      "A value is trying to be set on a copy of a slice from a DataFrame.\n",
      "Try using .loc[row_indexer,col_indexer] = value instead\n",
      "\n",
      "See the caveats in the documentation: https://pandas.pydata.org/pandas-docs/stable/user_guide/indexing.html#returning-a-view-versus-a-copy\n",
      "  referenceInfo.loc[referenceInfo['user_id'].isin(nonBorrower[\"user_id\"])]['label'] = None\n"
     ]
    }
   ],
   "source": [
    "referenceInfo = pd.DataFrame()\n",
    "referenceInfo[\"user_id\"] = pd.concat([userData[\"user_id\"], (nonBorrower[\"user_id\"])])\n",
    "referenceInfo[\"referenced_by_fraud\"] = referenceInfo[\"user_id\"].isin(loanFraud[\"reference_contact\"])\n",
    "referenceInfo[\"referenced_by_non\"] = referenceInfo[\"user_id\"].isin(loan.loc[loan.user_id.isin(nonBorrower.user_id)][\"reference_contact\"])\n",
    "referenceInfo[\"referencing_fraud\"] = referenceInfo[\"user_id\"].isin(loan.loc[loan[\"referenced_is_fraud\"] == 1][\"user_id\"])\n",
    "referenceInfo[\"referencing_non\"] = referenceInfo[\"user_id\"].isin(loan.loc[loan[\"referenced_is_non\"] == 1][\"user_id\"])\n",
    "referenceInfo[\"label\"] = referenceInfo[\"user_id\"].isin(userData.loc[userData[\"label\"] == 1][\"user_id\"])\n",
    "referenceInfo.loc[referenceInfo['user_id'].isin(nonBorrower[\"user_id\"])]['label'] = None"
   ]
  },
  {
   "cell_type": "code",
   "execution_count": 6,
   "metadata": {},
   "outputs": [
    {
     "data": {
      "image/png": "[encoded data removed]",
      "text/plain": [
       "<Figure size 640x480 with 1 Axes>"
      ]
     },
     "metadata": {},
     "output_type": "display_data"
    }
   ],
   "source": [
    "def categoricalAnalysis(attribute) :\n",
    "    temp = userData.groupby([attribute, \"label\"]).count()[\"user_id\"].reset_index()\n",
    "    temp.rename(columns={\"user_id\" : \"count\"}, inplace=True)\n",
    "    temp[\"count\"] = temp.groupby([attribute], group_keys=False).apply(lambda x: x / (x.sum()))[\"count\"]\n",
    "\n",
    "    sns.barplot(data= temp, x=attribute, hue=\"label\", y= \"count\")\n",
    "    plt.show()\n",
    "\n",
    "def analysisCategorical(attribute) :\n",
    "    temp = userData.groupby([attribute, \"label\"]).count()[\"user_id\"].reset_index()\n",
    "    temp.rename(columns={\"user_id\" : \"count\"}, inplace=True)\n",
    "    temp[\"count\"] = temp.groupby([\"label\"], group_keys=False).apply(lambda x: x / (x.sum()))[\"count\"]\n",
    "\n",
    "    sns.barplot(data= temp, x=\"label\", hue=attribute, y= \"count\")\n",
    "    plt.show()\n",
    "\n",
    "attribute = \"pc10\"\n",
    "temp = userData.groupby([attribute, \"label\"]).count()[\"user_id\"].reset_index()\n",
    "temp.rename(columns={\"user_id\" : \"count\"}, inplace=True)\n",
    "temp[\"count\"] = temp.groupby([attribute], group_keys=False).apply(lambda x: x / (x.sum()))[\"count\"]\n",
    "\n",
    "analysisCategorical(\"pc10\")"
   ]
  },
  {
   "cell_type": "code",
   "execution_count": 7,
   "metadata": {},
   "outputs": [],
   "source": [
    "# cm = pd.crosstab(y_test.values, predict, rownames=['Actual'], colnames=['Predicted'])\n",
    "# fig, (ax1) = plt.subplots(ncols=1, figsize=(5,5))\n",
    "# sns.heatmap(cm, \n",
    "#             xticklabels=['Not Fraud', 'Fraud'],\n",
    "#             yticklabels=['Not Fraud', 'Fraud'],\n",
    "#             annot=True,ax=ax1,\n",
    "#             linewidths=.2,linecolor=\"Darkblue\", cmap=\"Blues\")\n",
    "# plt.title('Confusion Matrix', fontsize=14)\n",
    "# plt.show()"
   ]
  },
  {
   "cell_type": "markdown",
   "metadata": {},
   "source": [
    "**KESIMPULAN**\n",
    "- test ada yang minjem ada yang ga pernah minjem\n",
    "- test ada yang direference dan ada yang ga pernah direference\n",
    "- user yang direference oleh fraud belum tentu fraud\n",
    "- user yang mereference fraud belum tentu fraud\n",
    "- Orang yang ga minjem belum tentu non fraud\n",
    "\n",
    "**Notes**\n",
    "- label di referenceInfo dibikin -1 buat yang ada di dataframe nonBorrower"
   ]
  },
  {
   "cell_type": "code",
   "execution_count": 8,
   "metadata": {},
   "outputs": [],
   "source": [
    "from sklearn.model_selection import train_test_split\n",
    "from sklearn.metrics import *\n",
    "\n",
    "trainLoanReference = trainLoan.set_index('user_id').join(referenceInfo.set_index('user_id'), lsuffix='_train', rsuffix='_reference').reset_index() #nyatuin data train sama loan\n",
    "trainLoanReference.rename(columns={\"label_train\" : \"label\"}, inplace=True)\n",
    "trainLoanReference.fillna(0, inplace=True)  \n",
    "\n",
    "# Split the data into training and testing sets\n",
    "X = trainLoanReference.drop(['label'], axis = 1, errors = 'ignore')  # Replace 'target_column' with your actual target column name\n",
    "y = trainLoanReference['label']\n",
    "X_train, X_test, y_train, y_test = train_test_split(X, y, test_size=0.2, random_state=42)"
   ]
  },
  {
   "cell_type": "code",
   "execution_count": 9,
   "metadata": {},
   "outputs": [
    {
     "name": "stdout",
     "output_type": "stream",
     "text": [
      "1.0\n",
      "1.0\n"
     ]
    }
   ],
   "source": [
    "from sklearn.tree import DecisionTreeClassifier\n",
    "\n",
    "clf = DecisionTreeClassifier()\n",
    "# Train the model\n",
    "clf.fit(X_train, y_train)\n",
    "\n",
    "# Predict\n",
    "# predict = pd.Series(clf.predict(X_test), index = X_test.index)\n",
    "predict = clf.predict(X_test)\n",
    "\n",
    "print(precision_score(y_test.values, predict))\n",
    "print(recall_score(y_test.values, predict))"
   ]
  },
  {
   "cell_type": "code",
   "execution_count": 10,
   "metadata": {},
   "outputs": [
    {
     "name": "stdout",
     "output_type": "stream",
     "text": [
      "1.0\n",
      "1.0\n"
     ]
    }
   ],
   "source": [
    "from sklearn.ensemble import RandomForestClassifier\n",
    "\n",
    "clf = RandomForestClassifier()\n",
    "# Train the model\n",
    "clf.fit(X_train, y_train)\n",
    "\n",
    "# Predict\n",
    "# predict = pd.Series(clf.predict(X_test), index = X_test.index)\n",
    "predict = clf.predict(X_test)\n",
    "\n",
    "print(precision_score(y_test.values, predict))\n",
    "print(recall_score(y_test.values, predict))"
   ]
  },
  {
   "cell_type": "code",
   "execution_count": 11,
   "metadata": {},
   "outputs": [
    {
     "name": "stdout",
     "output_type": "stream",
     "text": [
      "0.0\n",
      "0.0\n"
     ]
    }
   ],
   "source": [
    "from sklearn.neighbors import KNeighborsClassifier\n",
    "\n",
    "clf = KNeighborsClassifier()\n",
    "# Train the model\n",
    "clf.fit(X_train, y_train)\n",
    "\n",
    "# Predict\n",
    "# predict = pd.Series(clf.predict(X_test), index = X_test.index)\n",
    "predict = clf.predict(X_test)\n",
    "\n",
    "print(precision_score(y_test.values, predict))\n",
    "print(recall_score(y_test.values, predict))"
   ]
  },
  {
   "cell_type": "code",
   "execution_count": 12,
   "metadata": {},
   "outputs": [],
   "source": [
    "# from sklearn.svm import SVC\n",
    "\n",
    "# clf = SVC()\n",
    "# # Train the model\n",
    "# clf.fit(X_train, y_train)\n",
    "\n",
    "# # Predict\n",
    "# # predict = pd.Series(clf.predict(X_test), index = X_test.index)\n",
    "# predict = clf.predict(X_test)\n",
    "\n",
    "# print(precision_score(y_test.values, predict))\n",
    "# print(recall_score(y_test.values, predict))"
   ]
  },
  {
   "cell_type": "markdown",
   "metadata": {},
   "source": []
  }
 ],
 "metadata": {
  "kernelspec": {
   "display_name": "Python 3",
   "language": "python",
   "name": "python3"
  },
  "language_info": {
   "codemirror_mode": {
    "name": "ipython",
    "version": 3
   },
   "file_extension": ".py",
   "mimetype": "text/x-python",
   "name": "python",
   "nbconvert_exporter": "python",
   "pygments_lexer": "ipython3",
   "version": "3.10.5"
  }
 },
 "nbformat": 4,
 "nbformat_minor": 2
}
